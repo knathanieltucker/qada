{
 "cells": [
  {
   "cell_type": "code",
   "execution_count": 2,
   "metadata": {
    "collapsed": true
   },
   "outputs": [],
   "source": [
    "%matplotlib inline\n",
    "import seaborn as sns\n",
    "import pandas as pd"
   ]
  },
  {
   "cell_type": "code",
   "execution_count": 17,
   "metadata": {
    "collapsed": true
   },
   "outputs": [],
   "source": [
    "df = pd.read_csv('data.csv')"
   ]
  },
  {
   "cell_type": "code",
   "execution_count": 18,
   "metadata": {
    "collapsed": false
   },
   "outputs": [
    {
     "data": {
      "text/html": [
       "<div>\n",
       "<table border=\"1\" class=\"dataframe\">\n",
       "  <thead>\n",
       "    <tr style=\"text-align: right;\">\n",
       "      <th></th>\n",
       "      <th>name</th>\n",
       "      <th>date</th>\n",
       "      <th>website</th>\n",
       "      <th>size</th>\n",
       "      <th>year</th>\n",
       "    </tr>\n",
       "  </thead>\n",
       "  <tbody>\n",
       "    <tr>\n",
       "      <th>0</th>\n",
       "      <td>Internxt</td>\n",
       "      <td>9/28/2017</td>\n",
       "      <td>https://internxt.io/</td>\n",
       "      <td>0.16</td>\n",
       "      <td>17</td>\n",
       "    </tr>\n",
       "    <tr>\n",
       "      <th>1</th>\n",
       "      <td>Solomon Exchange</td>\n",
       "      <td>9/27/2017</td>\n",
       "      <td>https://solomonex.info/</td>\n",
       "      <td>0.16</td>\n",
       "      <td>17</td>\n",
       "    </tr>\n",
       "    <tr>\n",
       "      <th>2</th>\n",
       "      <td>Hackspace Capital</td>\n",
       "      <td>9/20/2017</td>\n",
       "      <td>https://hackspace.capital/</td>\n",
       "      <td>4.80</td>\n",
       "      <td>17</td>\n",
       "    </tr>\n",
       "    <tr>\n",
       "      <th>3</th>\n",
       "      <td>Impak Finance</td>\n",
       "      <td>9/20/2017</td>\n",
       "      <td>https://mpk.impak.eco/en/</td>\n",
       "      <td>1.05</td>\n",
       "      <td>17</td>\n",
       "    </tr>\n",
       "    <tr>\n",
       "      <th>4</th>\n",
       "      <td>Modum.io</td>\n",
       "      <td>9/22/2017</td>\n",
       "      <td>https://modum.io/</td>\n",
       "      <td>13.50</td>\n",
       "      <td>17</td>\n",
       "    </tr>\n",
       "  </tbody>\n",
       "</table>\n",
       "</div>"
      ],
      "text/plain": [
       "                name       date                     website   size  year\n",
       "0           Internxt  9/28/2017        https://internxt.io/   0.16    17\n",
       "1   Solomon Exchange  9/27/2017     https://solomonex.info/   0.16    17\n",
       "2  Hackspace Capital  9/20/2017  https://hackspace.capital/   4.80    17\n",
       "3      Impak Finance  9/20/2017   https://mpk.impak.eco/en/   1.05    17\n",
       "4           Modum.io  9/22/2017           https://modum.io/  13.50    17"
      ]
     },
     "execution_count": 18,
     "metadata": {},
     "output_type": "execute_result"
    }
   ],
   "source": [
    "df.head()"
   ]
  },
  {
   "cell_type": "code",
   "execution_count": 35,
   "metadata": {
    "collapsed": false
   },
   "outputs": [],
   "source": [
    "import numpy as np\n",
    "\n",
    "df['real_date'] = pd.to_datetime(df.date)\n",
    "df['log_size'] = np.log(df['size'] + 1)"
   ]
  },
  {
   "cell_type": "code",
   "execution_count": 38,
   "metadata": {
    "collapsed": false
   },
   "outputs": [
    {
     "data": {
      "text/plain": [
       "<matplotlib.axes._subplots.AxesSubplot at 0x10be28290>"
      ]
     },
     "execution_count": 38,
     "metadata": {},
     "output_type": "execute_result"
    },
    {
     "data": {
      "image/png": "[encoded data removed]",
      "text/plain": [
       "<matplotlib.figure.Figure at 0x10c1ec7d0>"
      ]
     },
     "metadata": {},
     "output_type": "display_data"
    }
   ],
   "source": [
    "sns.violinplot(x='year', y='log_size', data=df, scale='count')"
   ]
  },
  {
   "cell_type": "code",
   "execution_count": 46,
   "metadata": {
    "collapsed": true
   },
   "outputs": [],
   "source": [
    "icos_with_product = [\n",
    "'https://dether.io/',\n",
    "'https://guts.tickets/ ',\n",
    "'https://refereum.com/ ',\n",
    "'https://indahash.com/ ',\n",
    "'https://gameflip.com/ ',\n",
    "'https://pundix.com/ ',\n",
    "'https://envion.org/ ',\n",
    "'https://hdac.io/ ',\n",
    "'https://www.liveedu.tv/ ',\n",
    "'http://Trade.commerceblock.com ',\n",
    "'https://marketplace.ins.world/ ',\n",
    "'https://www.bitdegree.org/en/token ',\n",
    "'https://www.zenprotocol.com/ ',\n",
    "'https://amlt.coinfirm.io/ ',\n",
    "'https://www.copytrack.com/ ',\n",
    "'https://lalaworld.io/ ',\n",
    "'https://www.te-food.com/ ',\n",
    "'https://app.dock.io/',\n",
    "'https://eristica.com/ ',]\n",
    "\n",
    "icos_with_product_raised = [\n",
    "    13.2,\n",
    "    7.6,\n",
    "    30.2,\n",
    "    12.3,\n",
    "    15,\n",
    "    41.7,\n",
    "    100.1,\n",
    "    20,\n",
    "    0,\n",
    "    8.3,\n",
    "    45.9,\n",
    "    24.1,\n",
    "    46.8,\n",
    "    17.1,\n",
    "    10.8,\n",
    "    20.4,\n",
    "    19.1,\n",
    "    20,\n",
    "    3.2,\n",
    "    \n",
    "]"
   ]
  },
  {
   "cell_type": "code",
   "execution_count": 48,
   "metadata": {
    "collapsed": false
   },
   "outputs": [],
   "source": [
    "df_with_product = pd.DataFrame({\n",
    "    'website':icos_with_product, \n",
    "    'size':icos_with_product_raised,\n",
    "    'year': 18\n",
    "})"
   ]
  },
  {
   "cell_type": "code",
   "execution_count": 55,
   "metadata": {
    "collapsed": false
   },
   "outputs": [],
   "source": [
    "full_df = df.append(df_with_product)\n",
    "full_df['log_size'] = np.log(full_df['size'] + 10e-6)"
   ]
  },
  {
   "cell_type": "code",
   "execution_count": 56,
   "metadata": {
    "collapsed": false
   },
   "outputs": [
    {
     "data": {
      "text/plain": [
       "<matplotlib.axes._subplots.AxesSubplot at 0x10d724ed0>"
      ]
     },
     "execution_count": 56,
     "metadata": {},
     "output_type": "execute_result"
    },
    {
     "data": {
      "image/png": "[encoded data removed]",
      "text/plain": [
       "<matplotlib.figure.Figure at 0x10d1fb550>"
      ]
     },
     "metadata": {},
     "output_type": "display_data"
    }
   ],
   "source": [
    "sns.violinplot(x='year', y='log_size', data=full_df, scale='count')"
   ]
  },
  {
   "cell_type": "code",
   "execution_count": 57,
   "metadata": {
    "collapsed": false
   },
   "outputs": [
    {
     "data": {
      "text/plain": [
       "<matplotlib.axes._subplots.AxesSubplot at 0x10d5d38d0>"
      ]
     },
     "execution_count": 57,
     "metadata": {},
     "output_type": "execute_result"
    },
    {
     "data": {
      "image/png": "[encoded data removed]",
      "text/plain": [
       "<matplotlib.figure.Figure at 0x10d7f20d0>"
      ]
     },
     "metadata": {},
     "output_type": "display_data"
    }
   ],
   "source": [
    "sns.boxplot(x='year', y='log_size', data=full_df)"
   ]
  },
  {
   "cell_type": "code",
   "execution_count": 63,
   "metadata": {
    "collapsed": false
   },
   "outputs": [
    {
     "data": {
      "text/plain": [
       "<matplotlib.axes._subplots.AxesSubplot at 0x10e18c450>"
      ]
     },
     "execution_count": 63,
     "metadata": {},
     "output_type": "execute_result"
    },
    {
     "data": {
      "image/png": "[encoded data removed]",
      "text/plain": [
       "<matplotlib.figure.Figure at 0x10e16e050>"
      ]
     },
     "metadata": {},
     "output_type": "display_data"
    }
   ],
   "source": [
    "sns.distplot(full_df[full_df.year == 18]['size'])\n",
    "sns.rugplot(full_df[full_df.year == 18]['size'])"
   ]
  },
  {
   "cell_type": "code",
   "execution_count": null,
   "metadata": {
    "collapsed": true
   },
   "outputs": [],
   "source": []
  }
 ],
 "metadata": {
  "kernelspec": {
   "display_name": "Python 2",
   "language": "python",
   "name": "python2"
  },
  "language_info": {
   "codemirror_mode": {
    "name": "ipython",
    "version": 2
   },
   "file_extension": ".py",
   "mimetype": "text/x-python",
   "name": "python",
   "nbconvert_exporter": "python",
   "pygments_lexer": "ipython2",
   "version": "2.7.13"
  }
 },
 "nbformat": 4,
 "nbformat_minor": 2
}
